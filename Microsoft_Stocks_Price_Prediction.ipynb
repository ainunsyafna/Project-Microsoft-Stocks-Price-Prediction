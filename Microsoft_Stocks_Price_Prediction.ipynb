{
  "nbformat": 4,
  "nbformat_minor": 0,
  "metadata": {
    "colab": {
      "provenance": [],
      "authorship_tag": "ABX9TyOcFEhJyJebqSymgCW7sVOA",
      "include_colab_link": true
    },
    "kernelspec": {
      "name": "python3",
      "display_name": "Python 3"
    },
    "language_info": {
      "name": "python"
    }
  },
  "cells": [
    {
      "cell_type": "markdown",
      "metadata": {
        "id": "view-in-github",
        "colab_type": "text"
      },
      "source": [
        "<a href=\"https://colab.research.google.com/github/ainunsyafna/Project-Microsoft-Stocks-Price-Prediction/blob/main/Microsoft_Stocks_Price_Prediction.ipynb\" target=\"_parent\"><img src=\"https://colab.research.google.com/assets/colab-badge.svg\" alt=\"Open In Colab\"/></a>"
      ]
    },
    {
      "cell_type": "code",
      "execution_count": 1,
      "metadata": {
        "id": "VtM08Kv_-djB"
      },
      "outputs": [],
      "source": [
        "import os\n",
        "import numpy as np\n",
        "import pandas as pd\n",
        "import matplotlib.pyplot as plt\n",
        "%matplotlib inline\n",
        "from sklearn.preprocessing import MinMaxScaler\n",
        "from keras.models import Sequential\n",
        "from keras.layers import LSTM\n",
        "from keras.layers import Dense\n",
        "from keras.layers import Dropout"
      ]
    },
    {
      "cell_type": "code",
      "source": [
        "url = 'https://raw.githubusercontent.com/ainunsyafna/Project-Microsoft-Stocks-Price-Prediction/main/Microsoft-Stocks.csv'\n",
        "\n",
        "data = pd.read_csv(url)\n",
        "data"
      ],
      "metadata": {
        "colab": {
          "base_uri": "https://localhost:8080/",
          "height": 424
        },
        "id": "OXaXZMRj_F7Y",
        "outputId": "775faaf4-710b-421c-ffd3-d9da785a7c91"
      },
      "execution_count": 2,
      "outputs": [
        {
          "output_type": "execute_result",
          "data": {
            "text/plain": [
              "            Date   Price    Open    High     Low     Volume\n",
              "0     05/15/2023  309.46  309.10  309.90  307.59   16290000\n",
              "1     05/12/2023  308.97  310.55  310.65  306.60   19770000\n",
              "2     05/11/2023  310.11  310.10  311.12  306.26   31680000\n",
              "3     05/10/2023  312.31  308.62  313.00  307.67   30080000\n",
              "4     05/09/2023  307.00  308.00  310.04  306.31   21340000\n",
              "...          ...     ...     ...     ...     ...        ...\n",
              "9364  03/20/1986    0.10    0.10    0.10    0.09   58440000\n",
              "9365  03/19/1986    0.10    0.10    0.10    0.10   47890000\n",
              "9366  03/18/1986    0.10    0.10    0.10    0.10   66470000\n",
              "9367  03/17/1986    0.10    0.10    0.10    0.10  133169999\n",
              "9368  03/14/1986    0.10    0.10    0.10    0.10  308160000\n",
              "\n",
              "[9369 rows x 6 columns]"
            ],
            "text/html": [
              "\n",
              "  <div id=\"df-dc4fef20-68fb-47e6-ae7b-34456f777c02\">\n",
              "    <div class=\"colab-df-container\">\n",
              "      <div>\n",
              "<style scoped>\n",
              "    .dataframe tbody tr th:only-of-type {\n",
              "        vertical-align: middle;\n",
              "    }\n",
              "\n",
              "    .dataframe tbody tr th {\n",
              "        vertical-align: top;\n",
              "    }\n",
              "\n",
              "    .dataframe thead th {\n",
              "        text-align: right;\n",
              "    }\n",
              "</style>\n",
              "<table border=\"1\" class=\"dataframe\">\n",
              "  <thead>\n",
              "    <tr style=\"text-align: right;\">\n",
              "      <th></th>\n",
              "      <th>Date</th>\n",
              "      <th>Price</th>\n",
              "      <th>Open</th>\n",
              "      <th>High</th>\n",
              "      <th>Low</th>\n",
              "      <th>Volume</th>\n",
              "    </tr>\n",
              "  </thead>\n",
              "  <tbody>\n",
              "    <tr>\n",
              "      <th>0</th>\n",
              "      <td>05/15/2023</td>\n",
              "      <td>309.46</td>\n",
              "      <td>309.10</td>\n",
              "      <td>309.90</td>\n",
              "      <td>307.59</td>\n",
              "      <td>16290000</td>\n",
              "    </tr>\n",
              "    <tr>\n",
              "      <th>1</th>\n",
              "      <td>05/12/2023</td>\n",
              "      <td>308.97</td>\n",
              "      <td>310.55</td>\n",
              "      <td>310.65</td>\n",
              "      <td>306.60</td>\n",
              "      <td>19770000</td>\n",
              "    </tr>\n",
              "    <tr>\n",
              "      <th>2</th>\n",
              "      <td>05/11/2023</td>\n",
              "      <td>310.11</td>\n",
              "      <td>310.10</td>\n",
              "      <td>311.12</td>\n",
              "      <td>306.26</td>\n",
              "      <td>31680000</td>\n",
              "    </tr>\n",
              "    <tr>\n",
              "      <th>3</th>\n",
              "      <td>05/10/2023</td>\n",
              "      <td>312.31</td>\n",
              "      <td>308.62</td>\n",
              "      <td>313.00</td>\n",
              "      <td>307.67</td>\n",
              "      <td>30080000</td>\n",
              "    </tr>\n",
              "    <tr>\n",
              "      <th>4</th>\n",
              "      <td>05/09/2023</td>\n",
              "      <td>307.00</td>\n",
              "      <td>308.00</td>\n",
              "      <td>310.04</td>\n",
              "      <td>306.31</td>\n",
              "      <td>21340000</td>\n",
              "    </tr>\n",
              "    <tr>\n",
              "      <th>...</th>\n",
              "      <td>...</td>\n",
              "      <td>...</td>\n",
              "      <td>...</td>\n",
              "      <td>...</td>\n",
              "      <td>...</td>\n",
              "      <td>...</td>\n",
              "    </tr>\n",
              "    <tr>\n",
              "      <th>9364</th>\n",
              "      <td>03/20/1986</td>\n",
              "      <td>0.10</td>\n",
              "      <td>0.10</td>\n",
              "      <td>0.10</td>\n",
              "      <td>0.09</td>\n",
              "      <td>58440000</td>\n",
              "    </tr>\n",
              "    <tr>\n",
              "      <th>9365</th>\n",
              "      <td>03/19/1986</td>\n",
              "      <td>0.10</td>\n",
              "      <td>0.10</td>\n",
              "      <td>0.10</td>\n",
              "      <td>0.10</td>\n",
              "      <td>47890000</td>\n",
              "    </tr>\n",
              "    <tr>\n",
              "      <th>9366</th>\n",
              "      <td>03/18/1986</td>\n",
              "      <td>0.10</td>\n",
              "      <td>0.10</td>\n",
              "      <td>0.10</td>\n",
              "      <td>0.10</td>\n",
              "      <td>66470000</td>\n",
              "    </tr>\n",
              "    <tr>\n",
              "      <th>9367</th>\n",
              "      <td>03/17/1986</td>\n",
              "      <td>0.10</td>\n",
              "      <td>0.10</td>\n",
              "      <td>0.10</td>\n",
              "      <td>0.10</td>\n",
              "      <td>133169999</td>\n",
              "    </tr>\n",
              "    <tr>\n",
              "      <th>9368</th>\n",
              "      <td>03/14/1986</td>\n",
              "      <td>0.10</td>\n",
              "      <td>0.10</td>\n",
              "      <td>0.10</td>\n",
              "      <td>0.10</td>\n",
              "      <td>308160000</td>\n",
              "    </tr>\n",
              "  </tbody>\n",
              "</table>\n",
              "<p>9369 rows × 6 columns</p>\n",
              "</div>\n",
              "      <button class=\"colab-df-convert\" onclick=\"convertToInteractive('df-dc4fef20-68fb-47e6-ae7b-34456f777c02')\"\n",
              "              title=\"Convert this dataframe to an interactive table.\"\n",
              "              style=\"display:none;\">\n",
              "        \n",
              "  <svg xmlns=\"http://www.w3.org/2000/svg\" height=\"24px\"viewBox=\"0 0 24 24\"\n",
              "       width=\"24px\">\n",
              "    <path d=\"M0 0h24v24H0V0z\" fill=\"none\"/>\n",
              "    <path d=\"M18.56 5.44l.94 2.06.94-2.06 2.06-.94-2.06-.94-.94-2.06-.94 2.06-2.06.94zm-11 1L8.5 8.5l.94-2.06 2.06-.94-2.06-.94L8.5 2.5l-.94 2.06-2.06.94zm10 10l.94 2.06.94-2.06 2.06-.94-2.06-.94-.94-2.06-.94 2.06-2.06.94z\"/><path d=\"M17.41 7.96l-1.37-1.37c-.4-.4-.92-.59-1.43-.59-.52 0-1.04.2-1.43.59L10.3 9.45l-7.72 7.72c-.78.78-.78 2.05 0 2.83L4 21.41c.39.39.9.59 1.41.59.51 0 1.02-.2 1.41-.59l7.78-7.78 2.81-2.81c.8-.78.8-2.07 0-2.86zM5.41 20L4 18.59l7.72-7.72 1.47 1.35L5.41 20z\"/>\n",
              "  </svg>\n",
              "      </button>\n",
              "      \n",
              "  <style>\n",
              "    .colab-df-container {\n",
              "      display:flex;\n",
              "      flex-wrap:wrap;\n",
              "      gap: 12px;\n",
              "    }\n",
              "\n",
              "    .colab-df-convert {\n",
              "      background-color: #E8F0FE;\n",
              "      border: none;\n",
              "      border-radius: 50%;\n",
              "      cursor: pointer;\n",
              "      display: none;\n",
              "      fill: #1967D2;\n",
              "      height: 32px;\n",
              "      padding: 0 0 0 0;\n",
              "      width: 32px;\n",
              "    }\n",
              "\n",
              "    .colab-df-convert:hover {\n",
              "      background-color: #E2EBFA;\n",
              "      box-shadow: 0px 1px 2px rgba(60, 64, 67, 0.3), 0px 1px 3px 1px rgba(60, 64, 67, 0.15);\n",
              "      fill: #174EA6;\n",
              "    }\n",
              "\n",
              "    [theme=dark] .colab-df-convert {\n",
              "      background-color: #3B4455;\n",
              "      fill: #D2E3FC;\n",
              "    }\n",
              "\n",
              "    [theme=dark] .colab-df-convert:hover {\n",
              "      background-color: #434B5C;\n",
              "      box-shadow: 0px 1px 3px 1px rgba(0, 0, 0, 0.15);\n",
              "      filter: drop-shadow(0px 1px 2px rgba(0, 0, 0, 0.3));\n",
              "      fill: #FFFFFF;\n",
              "    }\n",
              "  </style>\n",
              "\n",
              "      <script>\n",
              "        const buttonEl =\n",
              "          document.querySelector('#df-dc4fef20-68fb-47e6-ae7b-34456f777c02 button.colab-df-convert');\n",
              "        buttonEl.style.display =\n",
              "          google.colab.kernel.accessAllowed ? 'block' : 'none';\n",
              "\n",
              "        async function convertToInteractive(key) {\n",
              "          const element = document.querySelector('#df-dc4fef20-68fb-47e6-ae7b-34456f777c02');\n",
              "          const dataTable =\n",
              "            await google.colab.kernel.invokeFunction('convertToInteractive',\n",
              "                                                     [key], {});\n",
              "          if (!dataTable) return;\n",
              "\n",
              "          const docLinkHtml = 'Like what you see? Visit the ' +\n",
              "            '<a target=\"_blank\" href=https://colab.research.google.com/notebooks/data_table.ipynb>data table notebook</a>'\n",
              "            + ' to learn more about interactive tables.';\n",
              "          element.innerHTML = '';\n",
              "          dataTable['output_type'] = 'display_data';\n",
              "          await google.colab.output.renderOutput(dataTable, element);\n",
              "          const docLink = document.createElement('div');\n",
              "          docLink.innerHTML = docLinkHtml;\n",
              "          element.appendChild(docLink);\n",
              "        }\n",
              "      </script>\n",
              "    </div>\n",
              "  </div>\n",
              "  "
            ]
          },
          "metadata": {},
          "execution_count": 2
        }
      ]
    },
    {
      "cell_type": "markdown",
      "source": [
        "#Pre Processing"
      ],
      "metadata": {
        "id": "cSf45QTjAPsD"
      }
    },
    {
      "cell_type": "code",
      "source": [
        "data.info()"
      ],
      "metadata": {
        "colab": {
          "base_uri": "https://localhost:8080/"
        },
        "id": "BA1pD22h_cHA",
        "outputId": "cb7d194e-4c4f-4d94-d915-82668cb88379"
      },
      "execution_count": 3,
      "outputs": [
        {
          "output_type": "stream",
          "name": "stdout",
          "text": [
            "<class 'pandas.core.frame.DataFrame'>\n",
            "RangeIndex: 9369 entries, 0 to 9368\n",
            "Data columns (total 6 columns):\n",
            " #   Column  Non-Null Count  Dtype  \n",
            "---  ------  --------------  -----  \n",
            " 0   Date    9369 non-null   object \n",
            " 1   Price   9369 non-null   float64\n",
            " 2   Open    9369 non-null   float64\n",
            " 3   High    9369 non-null   float64\n",
            " 4   Low     9369 non-null   float64\n",
            " 5   Volume  9369 non-null   int64  \n",
            "dtypes: float64(4), int64(1), object(1)\n",
            "memory usage: 439.3+ KB\n"
          ]
        }
      ]
    },
    {
      "cell_type": "code",
      "source": [
        "data['Date'] = pd.to_datetime(data['Date'])"
      ],
      "metadata": {
        "id": "BqWmgNMa_h-_"
      },
      "execution_count": 4,
      "outputs": []
    },
    {
      "cell_type": "code",
      "source": [
        "data.isna().sum()"
      ],
      "metadata": {
        "colab": {
          "base_uri": "https://localhost:8080/"
        },
        "id": "RAdIc1A0__ue",
        "outputId": "220a37af-ecaf-4958-879e-1f6942fb3629"
      },
      "execution_count": 5,
      "outputs": [
        {
          "output_type": "execute_result",
          "data": {
            "text/plain": [
              "Date      0\n",
              "Price     0\n",
              "Open      0\n",
              "High      0\n",
              "Low       0\n",
              "Volume    0\n",
              "dtype: int64"
            ]
          },
          "metadata": {},
          "execution_count": 5
        }
      ]
    },
    {
      "cell_type": "code",
      "source": [
        "data.duplicated().sum()"
      ],
      "metadata": {
        "colab": {
          "base_uri": "https://localhost:8080/"
        },
        "id": "9uyuaNJIAEDx",
        "outputId": "57957d32-42b8-41d0-a368-0b22e2f6a4b1"
      },
      "execution_count": 6,
      "outputs": [
        {
          "output_type": "execute_result",
          "data": {
            "text/plain": [
              "0"
            ]
          },
          "metadata": {},
          "execution_count": 6
        }
      ]
    },
    {
      "cell_type": "markdown",
      "source": [
        "#Split Data"
      ],
      "metadata": {
        "id": "v21MieTVIZ1q"
      }
    },
    {
      "cell_type": "code",
      "source": [
        "#Set the start and end dates for train and test sets\n",
        "train_start_date = '1986-01-01'\n",
        "train_end_date = '2022-12-31'\n",
        "test_start_date = '2023-01-01'\n",
        "test_end_date = '2023-12-31'\n",
        "\n",
        "#Filter the data based on the date ranges\n",
        "train = data[(data['Date'] >= train_start_date) & (data['Date'] <= train_end_date)]\n",
        "test = data[(data['Date'] >= test_start_date) & (data['Date'] <= test_end_date)]\n",
        "\n",
        "#Verify the train and test data\n",
        "print(\"Train Data:\")\n",
        "print(train.head())\n",
        "print(\"\\nTest Data:\")\n",
        "print(test.head())"
      ],
      "metadata": {
        "colab": {
          "base_uri": "https://localhost:8080/"
        },
        "id": "0dAcJcORIeUe",
        "outputId": "e5515e6e-4e31-4e16-dd89-e6783fb5008b"
      },
      "execution_count": 7,
      "outputs": [
        {
          "output_type": "stream",
          "name": "stdout",
          "text": [
            "Train Data:\n",
            "         Date   Price    Open    High     Low    Volume\n",
            "92 2022-12-30  239.82  238.21  239.96  236.66  21940000\n",
            "93 2022-12-29  241.01  235.65  241.92  235.65  19740000\n",
            "94 2022-12-28  234.53  236.89  239.72  234.17  17200000\n",
            "95 2022-12-27  236.96  238.70  238.93  235.83  16420000\n",
            "96 2022-12-23  238.73  236.11  238.87  233.94  21210000\n",
            "\n",
            "Test Data:\n",
            "        Date   Price    Open    High     Low    Volume\n",
            "0 2023-05-15  309.46  309.10  309.90  307.59  16290000\n",
            "1 2023-05-12  308.97  310.55  310.65  306.60  19770000\n",
            "2 2023-05-11  310.11  310.10  311.12  306.26  31680000\n",
            "3 2023-05-10  312.31  308.62  313.00  307.67  30080000\n",
            "4 2023-05-09  307.00  308.00  310.04  306.31  21340000\n"
          ]
        }
      ]
    },
    {
      "cell_type": "markdown",
      "source": [
        "#Train Model"
      ],
      "metadata": {
        "id": "CGSE5p16AmB8"
      }
    },
    {
      "cell_type": "code",
      "source": [
        "#Use Open stock price column to train model\n",
        "train_data = train.iloc[:,2:3].values\n",
        "print(train_data)\n",
        "print(train_data.shape)"
      ],
      "metadata": {
        "colab": {
          "base_uri": "https://localhost:8080/"
        },
        "id": "kyNYYcFtAfeG",
        "outputId": "4c65c1bd-08e7-4443-ee4e-aafc6fae631f"
      },
      "execution_count": 9,
      "outputs": [
        {
          "output_type": "stream",
          "name": "stdout",
          "text": [
            "[[2.3821e+02]\n",
            " [2.3565e+02]\n",
            " [2.3689e+02]\n",
            " ...\n",
            " [1.0000e-01]\n",
            " [1.0000e-01]\n",
            " [1.0000e-01]]\n",
            "(9277, 1)\n"
          ]
        }
      ]
    },
    {
      "cell_type": "code",
      "source": [
        "#Normalize dataset\n",
        "scaler = MinMaxScaler(feature_range=(0,1))\n",
        "scaled_data = scaler.fit_transform(train_data)\n",
        "scaled_data"
      ],
      "metadata": {
        "colab": {
          "base_uri": "https://localhost:8080/"
        },
        "id": "pm64xcgBCyO4",
        "outputId": "7fb7bb82-82ce-4968-d9ea-0e56bf703a6c"
      },
      "execution_count": 10,
      "outputs": [
        {
          "output_type": "execute_result",
          "data": {
            "text/plain": [
              "array([[6.91144458e-01],\n",
              "       [6.83714045e-01],\n",
              "       [6.87313151e-01],\n",
              "       ...,\n",
              "       [2.90250486e-05],\n",
              "       [2.90250486e-05],\n",
              "       [2.90250486e-05]])"
            ]
          },
          "metadata": {},
          "execution_count": 10
        }
      ]
    },
    {
      "cell_type": "code",
      "source": [
        "#Creating X Train and Y Train Data\n",
        "X_train = []\n",
        "y_train = []\n",
        "for i in range(60,9277):\n",
        "  X_train.append(scaled_data[i-60:i,0])\n",
        "  y_train.append(scaled_data[i,0])\n",
        "\n",
        "X_train = np.array(X_train)\n",
        "y_train = np.array(y_train)\n",
        "print(X_train)\n",
        "print(X_train.shape)\n",
        "print(y_train)\n",
        "print(y_train.shape)"
      ],
      "metadata": {
        "colab": {
          "base_uri": "https://localhost:8080/"
        },
        "id": "M8BhKz8eDNXI",
        "outputId": "06c4d20c-0b6c-4d7c-8095-ef40d9037d9d"
      },
      "execution_count": 12,
      "outputs": [
        {
          "output_type": "stream",
          "name": "stdout",
          "text": [
            "[[6.91144458e-01 6.83714045e-01 6.87313151e-01 ... 6.76167533e-01\n",
            "  6.98952196e-01 7.19356805e-01]\n",
            " [6.83714045e-01 6.87313151e-01 6.92566685e-01 ... 6.98952196e-01\n",
            "  7.19356805e-01 7.13725945e-01]\n",
            " [6.87313151e-01 6.92566685e-01 6.85049197e-01 ... 7.19356805e-01\n",
            "  7.13725945e-01 7.11113691e-01]\n",
            " ...\n",
            " [5.80500972e-05 5.80500972e-05 5.80500972e-05 ... 0.00000000e+00\n",
            "  2.90250486e-05 2.90250486e-05]\n",
            " [5.80500972e-05 5.80500972e-05 5.80500972e-05 ... 2.90250486e-05\n",
            "  2.90250486e-05 2.90250486e-05]\n",
            " [5.80500972e-05 5.80500972e-05 8.70751459e-05 ... 2.90250486e-05\n",
            "  2.90250486e-05 2.90250486e-05]]\n",
            "(9217, 60)\n",
            "[7.13725945e-01 7.11113691e-01 6.83017444e-01 ... 2.90250486e-05\n",
            " 2.90250486e-05 2.90250486e-05]\n",
            "(9217,)\n"
          ]
        }
      ]
    },
    {
      "cell_type": "code",
      "source": [
        "#Reshape data\n",
        "X_train = np.reshape(X_train,(X_train.shape[0], X_train.shape[1], 1))\n",
        "X_train.shape"
      ],
      "metadata": {
        "colab": {
          "base_uri": "https://localhost:8080/"
        },
        "id": "tJXmKhLhD1ZR",
        "outputId": "59abcb1b-33b1-46e7-be93-99657d2b725a"
      },
      "execution_count": 13,
      "outputs": [
        {
          "output_type": "execute_result",
          "data": {
            "text/plain": [
              "(9217, 60, 1)"
            ]
          },
          "metadata": {},
          "execution_count": 13
        }
      ]
    },
    {
      "cell_type": "code",
      "source": [
        "#Build model\n",
        "model = Sequential()\n",
        "model.add(LSTM(units = 50, return_sequences=True, input_shape=(X_train.shape[1],1)))\n",
        "model.add(Dropout(0.2))\n",
        "\n",
        "model.add(LSTM(units=50))\n",
        "model.add(Dropout(0.2))\n",
        "model.add(Dense(units=1))"
      ],
      "metadata": {
        "id": "MfvKaPuYED-L"
      },
      "execution_count": 14,
      "outputs": []
    },
    {
      "cell_type": "code",
      "source": [
        "#Fitting model\n",
        "model.compile(optimizer='adam', loss='mean_squared_error')\n",
        "model.fit(X_train, y_train, epochs=50, batch_size=32)"
      ],
      "metadata": {
        "colab": {
          "base_uri": "https://localhost:8080/"
        },
        "id": "6-4BwfaqFZr2",
        "outputId": "2781fdb6-06fc-40f4-f09e-88912171776f"
      },
      "execution_count": 15,
      "outputs": [
        {
          "output_type": "stream",
          "name": "stdout",
          "text": [
            "Epoch 1/50\n",
            "289/289 [==============================] - 27s 73ms/step - loss: 0.0016\n",
            "Epoch 2/50\n",
            "289/289 [==============================] - 19s 66ms/step - loss: 5.5081e-04\n",
            "Epoch 3/50\n",
            "289/289 [==============================] - 27s 93ms/step - loss: 5.3320e-04\n",
            "Epoch 4/50\n",
            "289/289 [==============================] - 21s 73ms/step - loss: 4.2366e-04\n",
            "Epoch 5/50\n",
            "289/289 [==============================] - 31s 106ms/step - loss: 3.8514e-04\n",
            "Epoch 6/50\n",
            "289/289 [==============================] - 26s 90ms/step - loss: 3.4308e-04\n",
            "Epoch 7/50\n",
            "289/289 [==============================] - 36s 123ms/step - loss: 3.8732e-04\n",
            "Epoch 8/50\n",
            "289/289 [==============================] - 30s 104ms/step - loss: 4.2043e-04\n",
            "Epoch 9/50\n",
            "289/289 [==============================] - 23s 81ms/step - loss: 3.2355e-04\n",
            "Epoch 10/50\n",
            "289/289 [==============================] - 19s 64ms/step - loss: 3.3364e-04\n",
            "Epoch 11/50\n",
            "289/289 [==============================] - 24s 82ms/step - loss: 3.7372e-04\n",
            "Epoch 12/50\n",
            "289/289 [==============================] - 26s 89ms/step - loss: 3.5294e-04\n",
            "Epoch 13/50\n",
            "289/289 [==============================] - 19s 67ms/step - loss: 3.9598e-04\n",
            "Epoch 14/50\n",
            "289/289 [==============================] - 18s 62ms/step - loss: 3.6986e-04\n",
            "Epoch 15/50\n",
            "289/289 [==============================] - 19s 65ms/step - loss: 3.1253e-04\n",
            "Epoch 16/50\n",
            "289/289 [==============================] - 19s 65ms/step - loss: 3.4057e-04\n",
            "Epoch 17/50\n",
            "289/289 [==============================] - 19s 65ms/step - loss: 3.2599e-04\n",
            "Epoch 18/50\n",
            "289/289 [==============================] - 18s 63ms/step - loss: 3.2647e-04\n",
            "Epoch 19/50\n",
            "289/289 [==============================] - 18s 61ms/step - loss: 3.1593e-04\n",
            "Epoch 20/50\n",
            "289/289 [==============================] - 19s 66ms/step - loss: 3.4081e-04\n",
            "Epoch 21/50\n",
            "289/289 [==============================] - 18s 61ms/step - loss: 3.4875e-04\n",
            "Epoch 22/50\n",
            "289/289 [==============================] - 19s 65ms/step - loss: 3.6117e-04\n",
            "Epoch 23/50\n",
            "289/289 [==============================] - 18s 61ms/step - loss: 3.4917e-04\n",
            "Epoch 24/50\n",
            "289/289 [==============================] - 18s 62ms/step - loss: 3.4021e-04\n",
            "Epoch 25/50\n",
            "289/289 [==============================] - 18s 64ms/step - loss: 3.2401e-04\n",
            "Epoch 26/50\n",
            "289/289 [==============================] - 18s 61ms/step - loss: 3.1723e-04\n",
            "Epoch 27/50\n",
            "289/289 [==============================] - 21s 73ms/step - loss: 3.1336e-04\n",
            "Epoch 28/50\n",
            "289/289 [==============================] - 18s 61ms/step - loss: 3.2163e-04\n",
            "Epoch 29/50\n",
            "289/289 [==============================] - 19s 65ms/step - loss: 3.3236e-04\n",
            "Epoch 30/50\n",
            "289/289 [==============================] - 18s 61ms/step - loss: 2.8223e-04\n",
            "Epoch 31/50\n",
            "289/289 [==============================] - 19s 65ms/step - loss: 3.1985e-04\n",
            "Epoch 32/50\n",
            "289/289 [==============================] - 18s 61ms/step - loss: 4.0115e-04\n",
            "Epoch 33/50\n",
            "289/289 [==============================] - 18s 61ms/step - loss: 3.0269e-04\n",
            "Epoch 34/50\n",
            "289/289 [==============================] - 19s 65ms/step - loss: 3.0967e-04\n",
            "Epoch 35/50\n",
            "289/289 [==============================] - 18s 61ms/step - loss: 3.2681e-04\n",
            "Epoch 36/50\n",
            "289/289 [==============================] - 19s 65ms/step - loss: 3.4341e-04\n",
            "Epoch 37/50\n",
            "289/289 [==============================] - 18s 61ms/step - loss: 2.9542e-04\n",
            "Epoch 38/50\n",
            "289/289 [==============================] - 18s 62ms/step - loss: 2.9013e-04\n",
            "Epoch 39/50\n",
            "289/289 [==============================] - 18s 63ms/step - loss: 3.0049e-04\n",
            "Epoch 40/50\n",
            "289/289 [==============================] - 18s 61ms/step - loss: 3.1172e-04\n",
            "Epoch 41/50\n",
            "289/289 [==============================] - 19s 65ms/step - loss: 3.1464e-04\n",
            "Epoch 42/50\n",
            "289/289 [==============================] - 18s 61ms/step - loss: 3.0450e-04\n",
            "Epoch 43/50\n",
            "289/289 [==============================] - 19s 65ms/step - loss: 2.8216e-04\n",
            "Epoch 44/50\n",
            "289/289 [==============================] - 18s 61ms/step - loss: 3.1286e-04\n",
            "Epoch 45/50\n",
            "289/289 [==============================] - 18s 62ms/step - loss: 3.0066e-04\n",
            "Epoch 46/50\n",
            "289/289 [==============================] - 19s 65ms/step - loss: 2.9600e-04\n",
            "Epoch 47/50\n",
            "289/289 [==============================] - 18s 61ms/step - loss: 2.9104e-04\n",
            "Epoch 48/50\n",
            "289/289 [==============================] - 19s 65ms/step - loss: 3.0985e-04\n",
            "Epoch 49/50\n",
            "289/289 [==============================] - 18s 61ms/step - loss: 2.9555e-04\n",
            "Epoch 50/50\n",
            "289/289 [==============================] - 18s 64ms/step - loss: 3.1019e-04\n"
          ]
        },
        {
          "output_type": "execute_result",
          "data": {
            "text/plain": [
              "<keras.callbacks.History at 0x7f46e9466260>"
            ]
          },
          "metadata": {},
          "execution_count": 15
        }
      ]
    },
    {
      "cell_type": "code",
      "source": [
        "test_data = test\n",
        "actual_stock_price = test_data.iloc[:,2:3].values\n",
        "print(actual_stock_price)\n",
        "print(actual_stock_price.shape)"
      ],
      "metadata": {
        "colab": {
          "base_uri": "https://localhost:8080/"
        },
        "id": "nOgqBDvbHVv8",
        "outputId": "acf474b8-77cb-4be8-bf5d-5c43d4727597"
      },
      "execution_count": 16,
      "outputs": [
        {
          "output_type": "stream",
          "name": "stdout",
          "text": [
            "[[309.1 ]\n",
            " [310.55]\n",
            " [310.1 ]\n",
            " [308.62]\n",
            " [308.  ]\n",
            " [310.13]\n",
            " [305.72]\n",
            " [306.24]\n",
            " [306.62]\n",
            " [307.76]\n",
            " [306.97]\n",
            " [304.01]\n",
            " [295.97]\n",
            " [296.7 ]\n",
            " [279.51]\n",
            " [282.09]\n",
            " [285.01]\n",
            " [285.25]\n",
            " [285.99]\n",
            " [291.57]\n",
            " [289.93]\n",
            " [287.  ]\n",
            " [283.59]\n",
            " [284.79]\n",
            " [285.75]\n",
            " [289.21]\n",
            " [283.21]\n",
            " [285.85]\n",
            " [287.23]\n",
            " [286.52]\n",
            " [283.73]\n",
            " [284.23]\n",
            " [278.96]\n",
            " [275.79]\n",
            " [280.5 ]\n",
            " [277.24]\n",
            " [277.94]\n",
            " [273.4 ]\n",
            " [274.88]\n",
            " [276.98]\n",
            " [278.26]\n",
            " [265.2 ]\n",
            " [259.98]\n",
            " [256.75]\n",
            " [247.4 ]\n",
            " [251.08]\n",
            " [255.82]\n",
            " [254.04]\n",
            " [256.3 ]\n",
            " [256.42]\n",
            " [252.19]\n",
            " [246.55]\n",
            " [250.76]\n",
            " [249.07]\n",
            " [252.46]\n",
            " [249.96]\n",
            " [255.56]\n",
            " [254.09]\n",
            " [254.48]\n",
            " [259.39]\n",
            " [264.02]\n",
            " [268.32]\n",
            " [272.67]\n",
            " [267.64]\n",
            " [261.53]\n",
            " [273.8 ]\n",
            " [273.2 ]\n",
            " [260.53]\n",
            " [257.44]\n",
            " [259.54]\n",
            " [258.82]\n",
            " [248.  ]\n",
            " [243.45]\n",
            " [244.51]\n",
            " [248.99]\n",
            " [243.65]\n",
            " [234.48]\n",
            " [242.5 ]\n",
            " [241.1 ]\n",
            " [234.85]\n",
            " [233.78]\n",
            " [241.57]\n",
            " [237.97]\n",
            " [237.  ]\n",
            " [235.26]\n",
            " [231.29]\n",
            " [227.76]\n",
            " [226.45]\n",
            " [223.  ]\n",
            " [227.2 ]\n",
            " [232.27]\n",
            " [243.08]]\n",
            "(92, 1)\n"
          ]
        }
      ]
    },
    {
      "cell_type": "code",
      "source": [
        "data_total = pd.concat((train['Open'], test['Open']), axis=0)\n",
        "inputs = data_total[len(data_total)-len(test_data)-60:].values\n",
        "\n",
        "inputs = inputs.reshape(-1, 1)\n",
        "inputs = scaler.transform(inputs)\n",
        "\n",
        "X_test = []\n",
        "for i in range(60, 92):\n",
        "  X_test.append(inputs[i-60:i, 0])\n",
        "\n",
        "X_test = np.array(X_test)\n",
        "X_test = np.reshape(X_test, (X_test.shape[0], X_test.shape[1], 1))"
      ],
      "metadata": {
        "id": "U9k-BSwlObcJ"
      },
      "execution_count": 21,
      "outputs": []
    },
    {
      "cell_type": "code",
      "source": [
        "predicted_stock_price = model.predict(X_test)\n",
        "predicted_stock_price = scaler.inverse_transform(predicted_stock_price)"
      ],
      "metadata": {
        "colab": {
          "base_uri": "https://localhost:8080/"
        },
        "id": "8z_9c9_ZPG5J",
        "outputId": "a5f6d334-1cdb-45de-de44-ac9f78e4cd74"
      },
      "execution_count": 22,
      "outputs": [
        {
          "output_type": "stream",
          "name": "stdout",
          "text": [
            "1/1 [==============================] - 1s 817ms/step\n"
          ]
        }
      ]
    },
    {
      "cell_type": "code",
      "source": [
        "plt.plot(actual_stock_price, color='red', label='Actual Microsoft Stock Price')\n",
        "plt.plot(predicted_stock_price, color='blue', label='Predicted Microsoft Stock Price')\n",
        "plt.title('Microsoft Stock Price Prediction')\n",
        "plt.xlabel('Time')\n",
        "plt.ylabel('Stock Price')\n",
        "plt.legend()"
      ],
      "metadata": {
        "colab": {
          "base_uri": "https://localhost:8080/",
          "height": 489
        },
        "id": "dYjCgAyPPVJb",
        "outputId": "cf658698-c927-4b62-c4c2-66e0bd30ab73"
      },
      "execution_count": 23,
      "outputs": [
        {
          "output_type": "execute_result",
          "data": {
            "text/plain": [
              "<matplotlib.legend.Legend at 0x7f46e66f2ec0>"
            ]
          },
          "metadata": {},
          "execution_count": 23
        },
        {
          "output_type": "display_data",
          "data": {
            "text/plain": [
              "<Figure size 640x480 with 1 Axes>"
            ],
            "image/png": "[encoded data removed]"
          },
          "metadata": {}
        }
      ]
    }
  ]
}